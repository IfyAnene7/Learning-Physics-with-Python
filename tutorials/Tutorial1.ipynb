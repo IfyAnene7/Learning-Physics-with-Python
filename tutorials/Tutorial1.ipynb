{
 "cells": [
  {
   "cell_type": "markdown",
   "metadata": {},
   "source": [
    "# Motion, Forces, and Energy Tutorial"
   ]
  },
  {
   "cell_type": "markdown",
   "metadata": {},
   "source": [
    "<h2>Tutorial Outline<span class=\"tocSkip\"></span></h2>\n",
    "<div class=\"toc\"><ul class=\"toc-item\"><li><span><a href=\"#Physical-quantities-and-measurement-techniques\" data-toc-modified-id=\"Physical-quantities-and-measurement-techniques\">Physical quantities and measurement techniques</a></span></li><li><span><a href=\"#Motion\" data-toc-modified-id=\"Motion\">Motion</a></span></li></ul></div>"
   ]
  },
  {
   "cell_type": "markdown",
   "metadata": {},
   "source": [
    "### Question 1a:\n",
    "\n",
    "Write a function that calculates the speed of different runners with different times.\n",
    "\n",
    "- David ran 80m in 30 seconds\n",
    "\n",
    "- Precious ran 100m in 50 seconds\n",
    "\n",
    "- Tobi ran 200m in 35 seconds \n",
    "\n",
    "- Chidera ran 190m in 30 seconds"
   ]
  },
  {
   "cell_type": "code",
   "execution_count": null,
   "metadata": {},
   "outputs": [],
   "source": []
  }
 ],
 "metadata": {
  "kernelspec": {
   "display_name": "Python 3",
   "language": "python",
   "name": "python3"
  },
  "language_info": {
   "codemirror_mode": {
    "name": "ipython",
    "version": 3
   },
   "file_extension": ".py",
   "mimetype": "text/x-python",
   "name": "python",
   "nbconvert_exporter": "python",
   "pygments_lexer": "ipython3",
   "version": "3.8.5"
  }
 },
 "nbformat": 4,
 "nbformat_minor": 4
}

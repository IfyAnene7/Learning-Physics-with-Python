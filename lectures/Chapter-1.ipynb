{
 "cells": [
  {
   "cell_type": "markdown",
   "metadata": {},
   "source": [
    "# Chapter 1: Motion, Forces, and Energy"
   ]
  },
  {
   "cell_type": "markdown",
   "metadata": {},
   "source": [
    "## Preface: \n",
    "\n",
    "This is an intro to learning physics with Python. This is part of the learning with Python series of online notebooks used to drive and support secondary education in Nigeria and hopefully other African countries."
   ]
  },
  {
   "cell_type": "markdown",
   "metadata": {},
   "source": [
    "<h2>Lecture Outline<span class=\"tocSkip\"></span></h2>\n",
    "<div class=\"toc\"><ul class=\"toc-item\"><li><span><a href=\"#Physical-quantities-and-measurement-techniques\" data-toc-modified-id=\"Physical-quantities-and-measurement-techniques\">Physical quantities and measurement techniques</a></span></li><li><span><a href=\"#Motion\" data-toc-modified-id=\"Motion\">Motion</a></span></li></ul></div>"
   ]
  },
  {
   "cell_type": "markdown",
   "metadata": {},
   "source": [
    "#### About the course: **Please read this**\n",
    "\n",
    "* Hi everyone, this is an open course collaborative effort, to help improve secondary education in Nigeria (and hopefully Africa).\n",
    "\n",
    "* This was started by Ifeanyi Anene, Ibrahim Shodeko, Ebube Ajulu, AraOluwa Adaramola,.... to name a few. \n",
    "\n",
    "* The sections of this chapter are listed in the lecture outline above. \n",
    "\n",
    "* In each section, I will introduce a roadmap of what you will be learning (i.e learning objective(s) of each section). Once you're done with the section and confident you have understood **ALL** the learning objective(s) for that section, you can attempt the tutorial related to that section.\n",
    "\n",
    "* I am assuming you have done most of the readings in lectures and spare time so I don't plan on going into detail of the theoretical aspects. \n",
    "\n",
    "* Finally, your learning experience can only be improved if I know what to work on/change, that's why feedback is extremely **IMPORTANT**. Please **DON'T** hesitate to give feedback by sending an email to one of these:\n",
    "\n",
    "1. U01isa....\n",
    "2. Ifeanyi11998.....\n",
    "\n",
    "* PS: I try to introduce some \"big/uncommon words\" in these lectures cause I feel that improving your vocabulary at a young age is important. Please don't fret(panic/worry), wherever I use these words, I put the meaning in a bracket like I did on this line :smiley: .\n",
    "\n",
    "Finally, let's get to work  :muscle: :exclamation:"
   ]
  },
  {
   "cell_type": "markdown",
   "metadata": {},
   "source": [
    "###  **FIX THIS EMOJI STUFF LATER**"
   ]
  },
  {
   "cell_type": "markdown",
   "metadata": {},
   "source": [
    "### Physical quantities and measurement techniques\n",
    "<hr>"
   ]
  },
  {
   "cell_type": "markdown",
   "metadata": {},
   "source": [
    "## Learning Objectives:\n",
    "\n",
    "* Describe the use of rulers and measuring cylinders to find a length or a volume. \n",
    "\n",
    "* Describe how to measure a variety of time intervals using clocks and digital timers. \n",
    "\n",
    "### Important ones are below for now... **We'll find out if WE can somehow use programming to teach the above two.**\n",
    "\n",
    "* Use Python to determine an average value for a small distance and for a short interval of time by measuring multiples (including the period of oscillation of a pendulum).\n",
    "\n",
    "* Use Python to illustrate(show) that a scalar quantity has magnitude (size) only and that a vector quantity has magnitude and direction.\n",
    "\n",
    "* Use Python to elucidate(make clearer) that the following quantities are scalars: distance, speed, time, mass, energy and temperature. \n",
    "\n",
    "* Use Python to elucidate(make clearer) that the following quantities are vectors: force, weight, velocity, acceleration, momentum, electric field strength and gravitational field strength. \n",
    "\n",
    "* Use Python to determine, by calculation or graphically, the resultant of two vectors at right angles, limited to forces or velocities only."
   ]
  },
  {
   "cell_type": "code",
   "execution_count": null,
   "metadata": {},
   "outputs": [],
   "source": [
    "# We want to determine the average value for a small distance and for a short interval of time\n",
    "\n",
    "\n",
    "\n"
   ]
  },
  {
   "cell_type": "code",
   "execution_count": null,
   "metadata": {},
   "outputs": [],
   "source": []
  },
  {
   "cell_type": "code",
   "execution_count": null,
   "metadata": {},
   "outputs": [],
   "source": []
  },
  {
   "cell_type": "markdown",
   "metadata": {},
   "source": [
    "### Motion\n",
    "<hr>"
   ]
  },
  {
   "cell_type": "markdown",
   "metadata": {},
   "source": [
    "## Learning Objectives: "
   ]
  },
  {
   "cell_type": "markdown",
   "metadata": {},
   "source": [
    "### DON'T DELETE THIS, WILL COPY PASTE FOR THE MATHS JUPYTER TEXTBOOK.\n",
    "\n",
    "\n",
    "* This is a table of the most common mathematical arithmetic operations. \n",
    "\n",
    "\n",
    "| Operator |   Description    |\n",
    "| :------: | :--------------: |\n",
    "|   `+`    |     addition     |\n",
    "|   `-`    |   subtraction    |\n",
    "|   `*`    |  multiplication  |\n",
    "|   `/`    |     division     |\n",
    "|   `**`   |  exponentiation  |\n",
    "|   `//`   | integer division / floor division |\n",
    "|   `%`    |      modulo      |\n"
   ]
  },
  {
   "cell_type": "markdown",
   "metadata": {},
   "source": [
    "Speed is the distance travelled per unit time. It is a **SCALER** quantity. The way I learnt this was by thinking distance is a scaler quantity therefore speed is a scaler quantity. It has no **DIRECTION**. $$\\text{Speed} = \\dfrac{\\text{distance}}{\\text{Time}}$$ We are going to calculate the speed of different distances below."
   ]
  },
  {
   "cell_type": "code",
   "execution_count": 1,
   "metadata": {},
   "outputs": [
    {
     "data": {
      "text/plain": [
       "4.0"
      ]
     },
     "execution_count": 1,
     "metadata": {},
     "output_type": "execute_result"
    }
   ],
   "source": [
    "distance_a = 40 # distance in metres (m). Distance here is a constant i.e it is a single value that doesn't change.  \n",
    "\n",
    "tttt_distance_a = 10 # tttt = time taken to traverse(travel through), distance a. Time here is also a constant.\n",
    "\n",
    "speed_a = distance_a / tttt_distance_a # Speed = distance / time. What do you expect speed to be?\n",
    "\n",
    "speed_a  # Speed in m/s. Yes speed is a constant."
   ]
  },
  {
   "cell_type": "markdown",
   "metadata": {},
   "source": [
    "#### Doing this all the time can get annoying so we can use functions to solve our repetitive problems for us. "
   ]
  },
  {
   "cell_type": "code",
   "execution_count": 2,
   "metadata": {},
   "outputs": [],
   "source": [
    "## Pay attention to everything in this function. Firstly, note the syntax of writing a function \"def function_name(parameters)\". \n",
    "## Note the documentation of the function. This is extremely important to yourself and to other programmers because it reminds you of \n",
    "## what you're/ the problem you are solving and tells others what you're doing. \n",
    "## It is extremely imperative (very important) that you follow this style of documenting functions.\n",
    "\n",
    "def calculate_speed(distance, time):\n",
    "    '''\n",
    "    calculate_speed is a function that calculates the distance travelled for a unit(one) of time. \n",
    "    A unit of time is e.g 1 second, 1 minute, 1 hour etc... \n",
    "    \n",
    "    \n",
    "    Parameters (Arguments: These are the things that go into the function, here they are the distance and the time. )\n",
    "    ----------\n",
    "    distance: int\n",
    "        The distance (in metres, m) travelled by an object. (note we use int to represent it because it is an integer)\n",
    "    \n",
    "    time: int \n",
    "        The time taken (in seconds, s) to travel the distance.\n",
    "    \n",
    "    \n",
    "    Returns (This is the value/type of data that the function returns.)\n",
    "    --------\n",
    "    speed: int\n",
    "        Distance travelled per unit time. Distance divided by time (until time = 1). (m/s)\n",
    "    \n",
    "    \n",
    "    Example (This shows you how to use the function, i.e the types of inputs the function is expecting)\n",
    "    -------\n",
    "    calculate_speed(40, 10)\n",
    "    '''\n",
    "    speed = round((distance / time), 2) # round function here rounds the calculated speed to 2 decimal places.\n",
    "    \n",
    "    return speed"
   ]
  },
  {
   "cell_type": "code",
   "execution_count": 3,
   "metadata": {},
   "outputs": [
    {
     "data": {
      "text/plain": [
       "5.71"
      ]
     },
     "execution_count": 3,
     "metadata": {},
     "output_type": "execute_result"
    }
   ],
   "source": [
    "calculate_speed(40, 7)"
   ]
  },
  {
   "cell_type": "markdown",
   "metadata": {},
   "source": [
    "#### Distance and time in the function above are variables, i.e they change depending on the user's (you) input. Think of the word vary to try to understand what variables mean."
   ]
  },
  {
   "cell_type": "markdown",
   "metadata": {},
   "source": [
    "#### Say we have to calculate more than one speed but same time taken (i.e multiple distances covered in the same time e.g, 10 different people running for 10 seconds). How do we go about doing that?"
   ]
  },
  {
   "cell_type": "code",
   "execution_count": 4,
   "metadata": {},
   "outputs": [],
   "source": [
    "def calculate_single_time_multiple_speed(distances, time):\n",
    "    '''\n",
    "    calculate_one_time_multiple_speed is a function that calculates the distances travelled in a unit of time.\n",
    "    \n",
    "    Parameters \n",
    "    ----------\n",
    "    distance: List (we need to store more than one distance, so here distance is a list.)\n",
    "        The distance (in metres, m) travelled by multiple objects. (note we use list to represent it because we are.....\n",
    "                                                                ....passing(sending) multiple distances into our function)\n",
    "    \n",
    "    time: int \n",
    "        The time taken (in seconds, s) to travel the distance.\n",
    "    \n",
    "    \n",
    "    Returns\n",
    "    --------\n",
    "    speed: int\n",
    "        Distance travelled per unit time. Distance divided by time (until time = 1)\n",
    "    \n",
    "    \n",
    "    Example \n",
    "    -------\n",
    "    calculate_one_time_multiple_speed(distance, 20)\n",
    "    '''\n",
    "    # this is the syntax (a way to) create a list []\n",
    "    \n",
    "    speed = [] # Initialise (start up/ or create in this context) an empty list where we store our values. \n",
    "    # This is important when we're storing stuff along the way.\n",
    "    \n",
    "    \n",
    "# The line below (for distance in distances:) loops(goes) through every distance in the distances list individually, \n",
    "# starting with the first distance and takes that into the loop (i.e the speed.append() code below)\n",
    "    for distance in distances: \n",
    "            speed.append(distance/time)  # distance/time calculates each individual speed, then the append function \n",
    "                                         # adds them to the empty list we created before. \n",
    "    \n",
    "    return speed"
   ]
  },
  {
   "cell_type": "markdown",
   "metadata": {},
   "source": [
    "#### Question 1a: \n",
    "\n",
    "David, Onyeka, Samuel, and Precious ran 90 metres, 150metres, 60metres and 30 metres respectively in 15 seconds, calculate their respective speeds. "
   ]
  },
  {
   "cell_type": "code",
   "execution_count": 5,
   "metadata": {},
   "outputs": [
    {
     "name": "stdout",
     "output_type": "stream",
     "text": [
      "David, Onyeka, Samuel and Precious, were running at [6.0, 10.0, 4.0, 2.0]m/s\n"
     ]
    }
   ],
   "source": [
    "respective_speeds = calculate_single_time_multiple_speed([90, 150, 60, 30], 15)\n",
    "\n",
    "print(f\"David, Onyeka, Samuel and Precious, were running at {respective_speeds}m/s\") \n",
    "\n",
    "# A way of printing out your output/calculation. This is called f-strings. The syntax is just adding th f to the start of your print message\n",
    "# and putting your variables in square brackets ({}). "
   ]
  },
  {
   "cell_type": "code",
   "execution_count": null,
   "metadata": {},
   "outputs": [],
   "source": []
  }
 ],
 "metadata": {
  "kernelspec": {
   "display_name": "Python 3",
   "language": "python",
   "name": "python3"
  },
  "language_info": {
   "codemirror_mode": {
    "name": "ipython",
    "version": 3
   },
   "file_extension": ".py",
   "mimetype": "text/x-python",
   "name": "python",
   "nbconvert_exporter": "python",
   "pygments_lexer": "ipython3",
   "version": "3.8.5"
  }
 },
 "nbformat": 4,
 "nbformat_minor": 4
}
